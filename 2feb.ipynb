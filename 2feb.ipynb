{
 "cells": [
  {
   "cell_type": "code",
   "execution_count": 7,
   "id": "a2a3470e-1146-4071-ae55-a3a66e44f956",
   "metadata": {},
   "outputs": [
    {
     "data": {
      "text/plain": [
       "'tuples are immutable.tuples are indexed.tuples are ordered.'"
      ]
     },
     "execution_count": 7,
     "metadata": {},
     "output_type": "execute_result"
    }
   ],
   "source": [
    "1. \"\"\"tuples are immutable.tuples are indexed.tuples are ordered.\"\"\""
   ]
  },
  {
   "cell_type": "code",
   "execution_count": 3,
   "id": "132e988f-609e-49f3-890d-86864918c6a2",
   "metadata": {},
   "outputs": [
    {
     "data": {
      "text/plain": [
       "5"
      ]
     },
     "execution_count": 3,
     "metadata": {},
     "output_type": "execute_result"
    }
   ],
   "source": [
    "2. #count()\n",
    "alist=(1,1,1,1,1,2,3,4,5)\n",
    "alist.count(1)"
   ]
  },
  {
   "cell_type": "code",
   "execution_count": 11,
   "id": "eddc67e1-5b24-4ace-9235-9d1f4a78972a",
   "metadata": {},
   "outputs": [
    {
     "data": {
      "text/plain": [
       "3"
      ]
     },
     "execution_count": 11,
     "metadata": {},
     "output_type": "execute_result"
    }
   ],
   "source": [
    "#index()\n",
    "alist.index(1,3,8)"
   ]
  },
  {
   "cell_type": "code",
   "execution_count": 14,
   "id": "10ff2cf2-00f6-4cae-8a5a-4ba35d221942",
   "metadata": {},
   "outputs": [],
   "source": [
    "#3. sets do not alow duplicate items.\n",
    "list={1,1,1,2,1,3,1,4,2,1,2,2,2,3,2,4,3,1,3,2,3,3,3,3,4,4,1,4}"
   ]
  },
  {
   "cell_type": "code",
   "execution_count": 15,
   "id": "4a636990-0d9e-4c8e-93cf-c6197010b270",
   "metadata": {},
   "outputs": [
    {
     "data": {
      "text/plain": [
       "{1, 2, 3, 4}"
      ]
     },
     "execution_count": 15,
     "metadata": {},
     "output_type": "execute_result"
    }
   ],
   "source": [
    "list"
   ]
  },
  {
   "cell_type": "code",
   "execution_count": 16,
   "id": "70598efb-e91a-4417-924b-c0ee4963cfdf",
   "metadata": {},
   "outputs": [],
   "source": [
    "#4. update function updates the list\n",
    "list.update({5,6})"
   ]
  },
  {
   "cell_type": "code",
   "execution_count": 17,
   "id": "c7cd6932-348e-450e-ad1a-ea32cc6b8c62",
   "metadata": {},
   "outputs": [
    {
     "data": {
      "text/plain": [
       "{1, 2, 3, 4, 5, 6}"
      ]
     },
     "execution_count": 17,
     "metadata": {},
     "output_type": "execute_result"
    }
   ],
   "source": [
    "list"
   ]
  },
  {
   "cell_type": "code",
   "execution_count": 18,
   "id": "0e99abc2-7a37-44e7-bb1d-9f84942dc3b4",
   "metadata": {},
   "outputs": [
    {
     "data": {
      "text/plain": [
       "{1, 2, 3, 4, 5, 6, 7, 8}"
      ]
     },
     "execution_count": 18,
     "metadata": {},
     "output_type": "execute_result"
    }
   ],
   "source": [
    "#union function makes a copy of list without updating it. \n",
    "list.union({7,8})"
   ]
  },
  {
   "cell_type": "code",
   "execution_count": 25,
   "id": "1921910f-8f7e-4ac0-b98b-b38ced276869",
   "metadata": {},
   "outputs": [],
   "source": [
    "#5. dictionary is used to store key value pairs\n",
    "#dictionary is an ordered data set\n",
    "list={1:'apple',2:'mango',3:'3'}"
   ]
  },
  {
   "cell_type": "code",
   "execution_count": 26,
   "id": "ae85a5a3-943c-475f-82b7-c464d93572f8",
   "metadata": {},
   "outputs": [
    {
     "data": {
      "text/plain": [
       "{1: 'apple', 2: 'mango', 3: '3'}"
      ]
     },
     "execution_count": 26,
     "metadata": {},
     "output_type": "execute_result"
    }
   ],
   "source": [
    "list"
   ]
  },
  {
   "cell_type": "code",
   "execution_count": 28,
   "id": "aafb3696-b854-4bb0-86d6-361ad065d607",
   "metadata": {},
   "outputs": [],
   "source": [
    "#6. yes we can create nested dictionary\n",
    "list1={1:'{1,2,3,4}',2:'{4,5,6,7}'}"
   ]
  },
  {
   "cell_type": "code",
   "execution_count": 29,
   "id": "8b064c44-d7a7-48df-bf10-0f8ac29c9c81",
   "metadata": {},
   "outputs": [
    {
     "data": {
      "text/plain": [
       "{1: '{1,2,3,4}', 2: '{4,5,6,7}'}"
      ]
     },
     "execution_count": 29,
     "metadata": {},
     "output_type": "execute_result"
    }
   ],
   "source": [
    "list1"
   ]
  },
  {
   "cell_type": "code",
   "execution_count": 30,
   "id": "51423035-388f-4cfc-82c7-bc9f08cc4c60",
   "metadata": {},
   "outputs": [],
   "source": [
    "#7. setdefault method\n",
    "dict={1:'a',2:'b',3:'c'}"
   ]
  },
  {
   "cell_type": "code",
   "execution_count": 36,
   "id": "6461ee35-4a07-4d6b-a0a3-b25608638dc6",
   "metadata": {},
   "outputs": [
    {
     "data": {
      "text/plain": [
       "32"
      ]
     },
     "execution_count": 36,
     "metadata": {},
     "output_type": "execute_result"
    }
   ],
   "source": [
    "dict.setdefault(' ',32)"
   ]
  },
  {
   "cell_type": "code",
   "execution_count": 37,
   "id": "70d7e524-bae5-4a68-8825-04fdd5c59ca1",
   "metadata": {},
   "outputs": [
    {
     "data": {
      "text/plain": [
       "{1: 'a', 2: 'b', 3: 'c', ' ': 32}"
      ]
     },
     "execution_count": 37,
     "metadata": {},
     "output_type": "execute_result"
    }
   ],
   "source": [
    "dict"
   ]
  },
  {
   "cell_type": "code",
   "execution_count": 38,
   "id": "64874878-91aa-4dd4-aa1c-2d7dfa4a32ff",
   "metadata": {},
   "outputs": [],
   "source": [
    "#8. keys,values,items\n",
    "dictionary={1:'a',2:'b',3:'c',4:'d'}"
   ]
  },
  {
   "cell_type": "code",
   "execution_count": 42,
   "id": "d48c8c6b-63c7-4ab8-ba5f-6ffb44d35018",
   "metadata": {},
   "outputs": [
    {
     "data": {
      "text/plain": [
       "dict_keys([1, 2, 3, 4])"
      ]
     },
     "execution_count": 42,
     "metadata": {},
     "output_type": "execute_result"
    }
   ],
   "source": [
    "dictionary.keys()"
   ]
  },
  {
   "cell_type": "code",
   "execution_count": 43,
   "id": "190992b3-b781-4b80-922c-a85d52ba4672",
   "metadata": {},
   "outputs": [
    {
     "data": {
      "text/plain": [
       "dict_values(['a', 'b', 'c', 'd'])"
      ]
     },
     "execution_count": 43,
     "metadata": {},
     "output_type": "execute_result"
    }
   ],
   "source": [
    "dictionary.values()"
   ]
  },
  {
   "cell_type": "code",
   "execution_count": 44,
   "id": "fa88b3a7-7082-4b7e-9cd5-73f4af4de8d0",
   "metadata": {},
   "outputs": [
    {
     "data": {
      "text/plain": [
       "dict_items([(1, 'a'), (2, 'b'), (3, 'c'), (4, 'd')])"
      ]
     },
     "execution_count": 44,
     "metadata": {},
     "output_type": "execute_result"
    }
   ],
   "source": [
    "dictionary.items()"
   ]
  },
  {
   "cell_type": "code",
   "execution_count": null,
   "id": "0f036dec-d6cf-423e-9215-272e34818d67",
   "metadata": {},
   "outputs": [],
   "source": []
  }
 ],
 "metadata": {
  "kernelspec": {
   "display_name": "Python 3 (ipykernel)",
   "language": "python",
   "name": "python3"
  },
  "language_info": {
   "codemirror_mode": {
    "name": "ipython",
    "version": 3
   },
   "file_extension": ".py",
   "mimetype": "text/x-python",
   "name": "python",
   "nbconvert_exporter": "python",
   "pygments_lexer": "ipython3",
   "version": "3.10.8"
  }
 },
 "nbformat": 4,
 "nbformat_minor": 5
}
