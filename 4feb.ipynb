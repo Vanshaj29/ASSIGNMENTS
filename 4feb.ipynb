{
 "cells": [
  {
   "cell_type": "code",
   "execution_count": 38,
   "id": "59822c88-a9bd-4470-9c2f-365cd104d93d",
   "metadata": {},
   "outputs": [
    {
     "name": "stdout",
     "output_type": "stream",
     "text": [
      "[('Sachin Tendulkar', 34357), ('Ricky Ponting', 27483), ('Jack Kallis', 25534), ('Virat Kohli', 24936)]\n",
      "sorted list:  [('Virat Kohli', 24936), ('Jack Kallis', 25534), ('Ricky Ponting', 27483), ('Sachin Tendulkar', 34357)]\n"
     ]
    }
   ],
   "source": [
    "#1. LAMBDA FUNCTION \n",
    "players = [(\"Sachin Tendulkar\",34357),(\"Ricky Ponting\",27483),(\"Jack Kallis\",25534), (\"Virat Kohli\",24936)]\n",
    "print(players)\n",
    "\n",
    "newList = sorted(players, key = lambda x : x[1])\n",
    "print(\"sorted list: \",newList)\n"
   ]
  },
  {
   "cell_type": "code",
   "execution_count": 15,
   "id": "eba695df-f495-4ee8-9686-0d63e26f84d4",
   "metadata": {},
   "outputs": [
    {
     "name": "stdout",
     "output_type": "stream",
     "text": [
      "Original List:  [1, 2, 3, 4, 5, 6, 7, 8, 9, 10]\n",
      "Square the elements:\n",
      "[1, 4, 9, 16, 25, 36, 49, 64, 81, 100]\n"
     ]
    }
   ],
   "source": [
    "#2. SQUARE OF NUMBERS USING MAP FUNCTION\n",
    "nums = [1,2,3,4,5,6,7,8,9,10]\n",
    "print(\"Original List: \",nums)\n",
    "result = map(square_num, nums)\n",
    "print(\"Square the elements:\")\n",
    "print(list(result))"
   ]
  },
  {
   "cell_type": "code",
   "execution_count": 4,
   "id": "05595539-2622-4ef4-b0cc-52f176f0d824",
   "metadata": {},
   "outputs": [
    {
     "data": {
      "text/plain": [
       "('1', '2', '3', '4', '5', '6', '7', '8', '9', '10')"
      ]
     },
     "execution_count": 4,
     "metadata": {},
     "output_type": "execute_result"
    }
   ],
   "source": [
    "#3. converting tuple into string\n",
    "nums=[1,2,3,4,5,6,7,8,9,10]\n",
    "func=lambda x:str(x)\n",
    "tuple(map(func,nums))"
   ]
  },
  {
   "cell_type": "code",
   "execution_count": 10,
   "id": "30146f8e-8bfc-40b2-8367-eb63ca8fe402",
   "metadata": {},
   "outputs": [
    {
     "name": "stdout",
     "output_type": "stream",
     "text": [
      "15511210043330985984000000\n"
     ]
    }
   ],
   "source": [
    "#4. multiply elements using reduce function\n",
    "import functools\n",
    "import operator\n",
    "num=[1,2,3,4,5,6,7,8,9,10,11,12,13,14,15,16,17,18,19,20,21,22,23,24,25]\n",
    "print(functools.reduce(operator.mul,num))"
   ]
  },
  {
   "cell_type": "code",
   "execution_count": 20,
   "id": "8c548e2c-1e33-4b8d-8652-c5e061f25673",
   "metadata": {},
   "outputs": [
    {
     "name": "stdout",
     "output_type": "stream",
     "text": [
      "[2, 6, 60, 90, 120, 46]\n"
     ]
    }
   ],
   "source": [
    "#5. list division using filter function \n",
    "num_list = [2,3,6,9,27,60,90,120,55,46]\n",
    "result = list(filter(lambda x: (x % 2 == 0 & x%3==0), num_list))\n",
    "print(result)"
   ]
  },
  {
   "cell_type": "code",
   "execution_count": 22,
   "id": "4519f8a7-46e5-42cc-8124-0ca834e0beb7",
   "metadata": {},
   "outputs": [
    {
     "name": "stdout",
     "output_type": "stream",
     "text": [
      "['php', 'aba', 'radar', 'level']\n"
     ]
    }
   ],
   "source": [
    "#6. palindrome string using lambda and filter function\n",
    "my_list = ['python', 'php', 'aba', 'radar', 'level']\n",
    "result = list(filter(lambda x: (x == \"\".join(reversed(x))), my_list)) \n",
    "print(result) "
   ]
  },
  {
   "cell_type": "code",
   "execution_count": null,
   "id": "2ed6d97b-16b3-4bce-bada-814c1996f94a",
   "metadata": {},
   "outputs": [],
   "source": []
  }
 ],
 "metadata": {
  "kernelspec": {
   "display_name": "Python 3 (ipykernel)",
   "language": "python",
   "name": "python3"
  },
  "language_info": {
   "codemirror_mode": {
    "name": "ipython",
    "version": 3
   },
   "file_extension": ".py",
   "mimetype": "text/x-python",
   "name": "python",
   "nbconvert_exporter": "python",
   "pygments_lexer": "ipython3",
   "version": "3.10.8"
  }
 },
 "nbformat": 4,
 "nbformat_minor": 5
}
